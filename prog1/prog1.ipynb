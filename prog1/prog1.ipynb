{
 "cells": [
  {
   "cell_type": "code",
   "execution_count": null,
   "metadata": {
    "vscode": {
     "languageId": "plaintext"
    }
   },
   "outputs": [],
   "source": [
    "import numpy as np\n",
    "import pandas as pd\n",
    "import requests\n",
    "import xlsxwriter\n",
    "import math\n",
    "import yfinance as yf"
   ]
  },
  {
   "cell_type": "code",
   "execution_count": null,
   "metadata": {
    "vscode": {
     "languageId": "plaintext"
    }
   },
   "outputs": [],
   "source": [
    "#api_key = 'your_api_key'\n",
    "\n",
    "from my_secrets import api_key\n",
    "\n",
    "\n",
    "symbol = 'SW'\n",
    "url = f'https://finnhub.io/api/v1/quote?symbol={symbol}&token={api_key}'\n",
    "response = requests.get(url)\n",
    "print(response.status_code)\n",
    "if response.status_code == 200:\n",
    "    data = response.json()\n",
    "data"
   ]
  },
  {
   "cell_type": "code",
   "execution_count": null,
   "metadata": {
    "vscode": {
     "languageId": "plaintext"
    }
   },
   "outputs": [],
   "source": [
    "response1 = requests.get(f'https://finnhub.io/api/v1/stock/profile2?symbol={symbol}&token={api_key}')\n",
    "if response1.status_code == 200:\n",
    "    data1 = response1.json()\n",
    "print(data1)\n",
    "\n"
   ]
  },
  {
   "cell_type": "code",
   "execution_count": null,
   "metadata": {
    "vscode": {
     "languageId": "plaintext"
    }
   },
   "outputs": [],
   "source": [
    "price = data['c']\n",
    "market_cap = data1['marketCapitalization']/1000"
   ]
  },
  {
   "cell_type": "code",
   "execution_count": null,
   "metadata": {
    "vscode": {
     "languageId": "plaintext"
    }
   },
   "outputs": [],
   "source": [
    "'''\n",
    "symbol = 'AAPL'\n",
    "data = yf.Ticker(symbol)\n",
    "market_cap = data.info['marketCap']/1000000000000\n",
    "price = data.info['currentPrice']\n",
    "data.info\n",
    "\n",
    "'''"
   ]
  },
  {
   "cell_type": "code",
   "execution_count": null,
   "metadata": {
    "vscode": {
     "languageId": "plaintext"
    }
   },
   "outputs": [],
   "source": [
    "my_columns = ['Ticker', 'Stock Price', 'Market Capitalization', 'Number of Shares to Buy']\n",
    "final_dataframe = pd.DataFrame(columns = my_columns)\n",
    "final_dataframe"
   ]
  },
  {
   "cell_type": "code",
   "execution_count": null,
   "metadata": {
    "vscode": {
     "languageId": "plaintext"
    }
   },
   "outputs": [],
   "source": [
    "# Create a new Series to be appended\n",
    "new_row = pd.Series(\n",
    "    [\n",
    "        symbol,\n",
    "        price,\n",
    "        market_cap,\n",
    "        'N/A'\n",
    "    ],\n",
    "    index=final_dataframe.columns  # Ensure the index matches the DataFrame's columns\n",
    ")\n",
    "\n",
    "# Concatenate the new Series (converted to a DataFrame) with the original DataFrame\n",
    "final_dataframe = pd.concat(\n",
    "    [final_dataframe, new_row.to_frame().T],\n",
    "    ignore_index=True\n",
    ")\n",
    "final_dataframe\n"
   ]
  },
  {
   "cell_type": "code",
   "execution_count": null,
   "metadata": {
    "vscode": {
     "languageId": "plaintext"
    }
   },
   "outputs": [],
   "source": [
    "'''\n",
    "final_dataframe = pd.DataFrame(columns = my_columns)\n",
    "for stock in stocks['Symbol']:\n",
    "    data = yf.Ticker(stock)\n",
    "    market_cap = data.info.get('marketCap',0)/1000000000000\n",
    "    price = data.info.get('currentPrice','N/A')\n",
    "    new_row = pd.Series(\n",
    "    [\n",
    "        stock,\n",
    "        price,\n",
    "        market_cap,\n",
    "        'N/A'\n",
    "    ],\n",
    "    index=final_dataframe.columns  # Ensure the index matches the DataFrame's columns\n",
    "    )\n",
    "    final_dataframe = pd.concat(\n",
    "    [final_dataframe, new_row.to_frame().T],\n",
    "    ignore_index=True\n",
    "    )\n",
    "final_dataframe\n",
    "''' "
   ]
  },
  {
   "cell_type": "code",
   "execution_count": null,
   "metadata": {
    "vscode": {
     "languageId": "plaintext"
    }
   },
   "outputs": [],
   "source": [
    "final_dataframe = pd.DataFrame(columns = my_columns)\n",
    "for stock in stocks['Symbol']:\n",
    "    url = f'https://finnhub.io/api/v1/quote?symbol={stock}&token={api_key}'\n",
    "    url1 = f'https://finnhub.io/api/v1/stock/profile2?symbol={stock}&token={api_key}'\n",
    "    price = requests.get(url).json().get('c','NA')\n",
    "    market_cap = requests.get(url1).json().get('marketCapitalization', 'NA')\n",
    "    if market_cap != 'NA':\n",
    "        market_cap /= 1000\n",
    "    new_row = pd.Series(\n",
    "    [\n",
    "        stock,\n",
    "        price,\n",
    "        market_cap,\n",
    "        'N/A'\n",
    "    ],\n",
    "    index=final_dataframe.columns\n",
    "    )\n",
    "    final_dataframe = pd.concat(\n",
    "    [final_dataframe, new_row.to_frame().T],\n",
    "    ignore_index=True\n",
    "    )\n",
    "\n",
    "    "
   ]
  },
  {
   "cell_type": "code",
   "execution_count": null,
   "metadata": {
    "vscode": {
     "languageId": "plaintext"
    }
   },
   "outputs": [],
   "source": [
    "final_dataframe"
   ]
  },
  {
   "cell_type": "code",
   "execution_count": null,
   "metadata": {
    "vscode": {
     "languageId": "plaintext"
    }
   },
   "outputs": [],
   "source": [
    "final_dataframe.to_csv('df.csv')"
   ]
  }
 ],
 "metadata": {
  "language_info": {
   "name": "python"
  }
 },
 "nbformat": 4,
 "nbformat_minor": 2
}
