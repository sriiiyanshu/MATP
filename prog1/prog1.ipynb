{
 "cells": [
  {
   "cell_type": "code",
   "execution_count": 1,
   "metadata": {},
   "outputs": [],
   "source": [
    "import numpy as np\n",
    "import pandas as pd\n",
    "import requests\n",
    "import xlsxwriter\n",
    "import math\n",
    "import yfinance as yf"
   ]
  },
  {
   "cell_type": "code",
   "execution_count": 3,
   "metadata": {},
   "outputs": [
    {
     "name": "stdout",
     "output_type": "stream",
     "text": [
      "200\n"
     ]
    },
    {
     "data": {
      "text/plain": [
       "{'c': 45.57,\n",
       " 'd': -0.13,\n",
       " 'dp': -0.2845,\n",
       " 'h': 46.16,\n",
       " 'l': 45.09,\n",
       " 'o': 45.08,\n",
       " 'pc': 45.7,\n",
       " 't': 1725480002}"
      ]
     },
     "execution_count": 3,
     "metadata": {},
     "output_type": "execute_result"
    }
   ],
   "source": [
    "#api_key = 'your_api_key'\n",
    "\n",
    "from my_secret import api_key\n",
    "\n",
    "\n",
    "symbol = 'SW'\n",
    "url = f'https://finnhub.io/api/v1/quote?symbol={symbol}&token={api_key}'\n",
    "response = requests.get(url)\n",
    "print(response.status_code)\n",
    "if response.status_code == 200:\n",
    "    data = response.json()\n",
    "data"
   ]
  },
  {
   "cell_type": "code",
   "execution_count": null,
   "metadata": {},
   "outputs": [],
   "source": [
    "response1 = requests.get(f'https://finnhub.io/api/v1/stock/profile2?symbol={symbol}&token={api_key}')\n",
    "if response1.status_code == 200:\n",
    "    data1 = response1.json()\n",
    "print(data1)\n",
    "\n"
   ]
  },
  {
   "cell_type": "code",
   "execution_count": null,
   "metadata": {},
   "outputs": [],
   "source": [
    "price = data['c']\n",
    "market_cap = data1['marketCapitalization']/1000"
   ]
  },
  {
   "cell_type": "code",
   "execution_count": null,
   "metadata": {},
   "outputs": [],
   "source": [
    "'''\n",
    "symbol = 'AAPL'\n",
    "data = yf.Ticker(symbol)\n",
    "market_cap = data.info['marketCap']/1000000000000\n",
    "price = data.info['currentPrice']\n",
    "data.info\n",
    "\n",
    "'''"
   ]
  },
  {
   "cell_type": "code",
   "execution_count": null,
   "metadata": {},
   "outputs": [],
   "source": [
    "my_columns = ['Ticker', 'Stock Price', 'Market Capitalization', 'Number of Shares to Buy']\n",
    "final_dataframe = pd.DataFrame(columns = my_columns)\n",
    "final_dataframe"
   ]
  },
  {
   "cell_type": "code",
   "execution_count": null,
   "metadata": {},
   "outputs": [],
   "source": [
    "# Create a new Series to be appended\n",
    "new_row = pd.Series(\n",
    "    [\n",
    "        symbol,\n",
    "        price,\n",
    "        market_cap,\n",
    "        'N/A'\n",
    "    ],\n",
    "    index=final_dataframe.columns  # Ensure the index matches the DataFrame's columns\n",
    ")\n",
    "\n",
    "# Concatenate the new Series (converted to a DataFrame) with the original DataFrame\n",
    "final_dataframe = pd.concat(\n",
    "    [final_dataframe, new_row.to_frame().T],\n",
    "    ignore_index=True\n",
    ")\n",
    "final_dataframe\n"
   ]
  },
  {
   "cell_type": "code",
   "execution_count": null,
   "metadata": {},
   "outputs": [],
   "source": [
    "'''\n",
    "final_dataframe = pd.DataFrame(columns = my_columns)\n",
    "for stock in stocks['Symbol']:\n",
    "    data = yf.Ticker(stock)\n",
    "    market_cap = data.info.get('marketCap',0)/1000000000000\n",
    "    price = data.info.get('currentPrice','N/A')\n",
    "    new_row = pd.Series(\n",
    "    [\n",
    "        stock,\n",
    "        price,\n",
    "        market_cap,\n",
    "        'N/A'\n",
    "    ],\n",
    "    index=final_dataframe.columns  # Ensure the index matches the DataFrame's columns\n",
    "    )\n",
    "    final_dataframe = pd.concat(\n",
    "    [final_dataframe, new_row.to_frame().T],\n",
    "    ignore_index=True\n",
    "    )\n",
    "final_dataframe\n",
    "''' "
   ]
  },
  {
   "cell_type": "code",
   "execution_count": null,
   "metadata": {},
   "outputs": [],
   "source": [
    "final_dataframe = pd.DataFrame(columns = my_columns)\n",
    "for stock in stocks['Symbol']:\n",
    "    url = f'https://finnhub.io/api/v1/quote?symbol={stock}&token={api_key}'\n",
    "    url1 = f'https://finnhub.io/api/v1/stock/profile2?symbol={stock}&token={api_key}'\n",
    "    price = requests.get(url).json().get('c','NA')\n",
    "    market_cap = requests.get(url1).json().get('marketCapitalization', 'NA')\n",
    "    if market_cap != 'NA':\n",
    "        market_cap /= 1000\n",
    "    new_row = pd.Series(\n",
    "    [\n",
    "        stock,\n",
    "        price,\n",
    "        market_cap,\n",
    "        'N/A'\n",
    "    ],\n",
    "    index=final_dataframe.columns\n",
    "    )\n",
    "    final_dataframe = pd.concat(\n",
    "    [final_dataframe, new_row.to_frame().T],\n",
    "    ignore_index=True\n",
    "    )\n",
    "\n",
    "    "
   ]
  },
  {
   "cell_type": "code",
   "execution_count": null,
   "metadata": {},
   "outputs": [],
   "source": [
    "final_dataframe"
   ]
  },
  {
   "cell_type": "code",
   "execution_count": null,
   "metadata": {},
   "outputs": [],
   "source": [
    "final_dataframe.to_csv('df.csv')"
   ]
  }
 ],
 "metadata": {
  "kernelspec": {
   "display_name": "Python 3",
   "language": "python",
   "name": "python3"
  },
  "language_info": {
   "codemirror_mode": {
    "name": "ipython",
    "version": 3
   },
   "file_extension": ".py",
   "mimetype": "text/x-python",
   "name": "python",
   "nbconvert_exporter": "python",
   "pygments_lexer": "ipython3",
   "version": "3.12.2"
  }
 },
 "nbformat": 4,
 "nbformat_minor": 2
}
